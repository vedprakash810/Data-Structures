{
  "nbformat": 4,
  "nbformat_minor": 0,
  "metadata": {
    "colab": {
      "provenance": []
    },
    "kernelspec": {
      "name": "python3",
      "display_name": "Python 3"
    },
    "language_info": {
      "name": "python"
    }
  },
  "cells": [
    {
      "cell_type": "markdown",
      "source": [
        " 1. What are data structures, and why are they important?\n",
        "\n",
        " Ans-\n",
        "   Data structures are a fundamental concept in computer science that organize and store data in a way that makes it easy to access and manipulate.\n",
        "\n",
        "   They are important because they:\n",
        "\n",
        " Improve code performance\n",
        "\n",
        " Improve code readability\n",
        "\n",
        " Improve memory management\n",
        "\n",
        " Make it easier to manage large amounts of data\n",
        "\n",
        " 2. Explain the difference between mutable and immutable data types with examples?\n",
        "\n",
        " Ans-\n",
        " Mutable data types are those whose values can be changed, whereas immutable data types are ones in which the values can’t be changed.\n",
        "\n",
        " 3. What are the main differences between lists and tuples in Python?\n",
        " Ans-\n",
        " The main difference between lists and tuples in Python is that lists are mutable, while tuples are immutable.\n",
        " * Lists can be modified, while tuples cannot.\n",
        "\n",
        " 4. Describe how dictionaries store data.\n",
        "\n",
        " Ans-\n",
        " Dictionaries are used to store data values in key:value pairs. A dictionary is a collection which is ordered, changeable and do not allow duplicates.\n",
        "     \n",
        "\n",
        "\n"
      ],
      "metadata": {
        "id": "vghVxTGqk9Bp"
      }
    },
    {
      "cell_type": "markdown",
      "source": [
        "5. Why might you use a set instead of a list in Python?\n",
        "Ans-\n",
        "One of the main advantages of using sets in Python is that they are highly optimized for membership tests. For example, sets do membership tests a lot more efficiently than lists.\n",
        "6. What is a string in Python, and how is it different from a list?\n",
        "\n",
        "Ans-\n",
        "A string is a sequence of characters between single or double quotes. A list is a sequence of items, where each item could be anything (an integer, a float, a string, etc).\n",
        "\n",
        "7. How do tuples ensure data integrity in Python?\n",
        "\n",
        "Ans-\n",
        "Tuples are immutable to ensure that their contents remain constant throughout their lifecycle, guaranteeing data integrity and reliability.\n",
        "8. What is a hash table, and how does it relate to dictionaries in Python?\n",
        "Ans-\n",
        "In Python, dictionaries are built using hash tables, which are data structures that store key-value pairs:\n",
        "\n",
        "*How hash tables work\n",
        "\n",
        "A hash table uses a hash function to compute an index, or hash code, for each key-value pair. This index points to a bucket or slot in an array where the value is stored.\n",
        "\n",
        "*How hash tables relate to dictionaries\n",
        "\n",
        "Python's built-in dictionary data type implements hash tables and hash maps. The keys in a Python dictionary are generated using a hashing function.\n",
        "9. Can lists contain different data types in Python?\n",
        "\n",
        "Ans-\n",
        "A list can also contain a mix of Python types including strings, floats, and booleans.\n",
        "10. Explain why strings are immutable in Python.\n",
        "\n",
        "Ans-\n",
        " Strings in Python are “immutable” which means they can not be changed after they are created. Some other immutable data types are integers.\n",
        " 11. What advantages do dictionaries offer over lists for certain tasks?\n",
        " Ans-\n",
        " It is more efficient to use dictionaries for the searching of elements as it can be carried out in a much faster manner.\n",
        " 12. Describe a scenario where using a tuple would be preferable over a list.\n",
        "\n",
        " Ans-  If a data is needed in a program which is not supposed to be changed, then it is better to put it in 'tuples' than in 'list'.\n",
        " 13. How do sets handle duplicate values in Python?\n",
        "\n",
        " Ans- *Using the set() Method. One straightforward way to remove duplicates from a list in Python is by converting the list to a set.\n",
        "*Using List Comprehension.\n",
        "14. How does the “in” keyword work differently for lists and\n",
        "    dictionaries?\n",
        "\n",
        "Ans-\n",
        "Dictionary values can be duplicated like a list. The execution time of in for values() is about the same as for lists. Key-value pairs are unique.\n",
        "15. Can you modify the elements of a tuple? Explain why or why not.\n",
        "Ans-\n",
        "Tuples, unlike lists, are immutable. This means that once a tuple's elements have been allocated, they cannot be modified. However, if the element is a changeable data type, such as a list, its nested components can be altered. If you attempt to alter a tuple element, you will receive a TypeError error.\n",
        "16. What is a nested dictionary, and give an example of its use case?\n",
        "Ans-\n",
        "In Python, a nested dictionary is a dictionary inside a dictionary. It's a collection of dictionaries into one single dictionary.\n",
        "ex- nested_dict = { 'dictA': {'key_1': 'value_1'},\n",
        "                'dictB': {'key_2': 'value_2'}}\n",
        "17. Describe the time complexity of accessing elements in a dictionary.\n",
        "Ans-\n",
        "Similar to the insertion operation, dictionary lookups in Python also have an average time complexity of O(1). This means that, on average, the time taken to retrieve an element from a dictionary is constant and does not depend on the size of the dictionary.\n",
        "\n",
        "18. In what situations are lists preferred over dictionaries?\n",
        "Ans-\n",
        "Lists can duplicate values since each values have unique index. Dictionaries cannot contain duplicate keys but can contain duplicate values since each value has unique key\n",
        "19. Why are dictionaries considered unordered, and how does that affect data retrieval?\n",
        "\n",
        "Ans-\n",
        " Python dictionary is unordered. It means that you can't access the dictionary element based on it's position value.\n",
        "This provides much quicker access to unordered data than searching through the data set using a linear search, and will also outperform a binary search key.\n",
        "20. Explain the difference between a list and a dictionary in terms of data retrieval.\n",
        "\n",
        "Ans-\n",
        "Lists and Dictionaries in Python are inbuilt data structures that are used to store data. Lists are linear in nature whereas dictionaries stored the data in key-value pairs.\n",
        "\n"
      ],
      "metadata": {
        "id": "fmGKXbSoznL0"
      }
    },
    {
      "cell_type": "code",
      "source": [
        "# Practical Questions\n",
        "# 1. Write a code to create a string with your name and print it.\n",
        "my_name = \"Ved Prakash\"\n",
        "print(my_name)\n"
      ],
      "metadata": {
        "colab": {
          "base_uri": "https://localhost:8080/"
        },
        "id": "lQ7AKb7WDirN",
        "outputId": "0db1375b-9365-4382-b64f-ceace4697605"
      },
      "execution_count": 1,
      "outputs": [
        {
          "output_type": "stream",
          "name": "stdout",
          "text": [
            "Ved Prakash\n"
          ]
        }
      ]
    },
    {
      "cell_type": "code",
      "source": [
        "# 2.Write a code to find the length of the string \"Hello World\".\n",
        "string = \"Hello World\"\n",
        "print(len(string))\n"
      ],
      "metadata": {
        "colab": {
          "base_uri": "https://localhost:8080/"
        },
        "id": "BZ8qjIJqEiym",
        "outputId": "ae1966c3-8633-4d08-b7e4-9b810aead5aa"
      },
      "execution_count": 2,
      "outputs": [
        {
          "output_type": "stream",
          "name": "stdout",
          "text": [
            "11\n"
          ]
        }
      ]
    },
    {
      "cell_type": "code",
      "source": [
        "# 3. Write a code to slice the first 3 characters from the string \"Python Programming\".\n",
        "string = \"Python Programming\"\n",
        "print(string[:3])"
      ],
      "metadata": {
        "colab": {
          "base_uri": "https://localhost:8080/"
        },
        "id": "2hyzcrmeE1hE",
        "outputId": "5a7ee588-dfe4-47fe-9efa-e0a1f89cf7a5"
      },
      "execution_count": 3,
      "outputs": [
        {
          "output_type": "stream",
          "name": "stdout",
          "text": [
            "Pyt\n"
          ]
        }
      ]
    },
    {
      "cell_type": "code",
      "source": [
        "# 4.Write a code to convert the string \"hello\" to uppercase.\n",
        "string = \"hello\"\n",
        "print(string.upper())\n"
      ],
      "metadata": {
        "colab": {
          "base_uri": "https://localhost:8080/"
        },
        "id": "0pFjA-M_FBcs",
        "outputId": "955296c4-872c-49cc-ce6e-11ef992c9880"
      },
      "execution_count": 4,
      "outputs": [
        {
          "output_type": "stream",
          "name": "stdout",
          "text": [
            "HELLO\n"
          ]
        }
      ]
    },
    {
      "cell_type": "code",
      "source": [
        "# 5. Write a code to replace the word \"apple\" with \"orange\" in the string \"I like apple\".\n",
        "string = \"I like apple\"\n",
        "print(string.replace(\"apple\", \"orange\"))"
      ],
      "metadata": {
        "colab": {
          "base_uri": "https://localhost:8080/"
        },
        "id": "FDcscYUwFPO8",
        "outputId": "b1b9821d-c019-4028-afc4-c9df03e8a737"
      },
      "execution_count": 5,
      "outputs": [
        {
          "output_type": "stream",
          "name": "stdout",
          "text": [
            "I like orange\n"
          ]
        }
      ]
    },
    {
      "cell_type": "code",
      "source": [
        "# 6. Write a code to create a list with numbers 1 to 5 and print it.\n",
        "list = [1, 2, 3, 4, 5]\n",
        "print(list)"
      ],
      "metadata": {
        "colab": {
          "base_uri": "https://localhost:8080/"
        },
        "id": "iVCulQhwFjsL",
        "outputId": "10a882aa-b227-483c-92d7-98f484326f02"
      },
      "execution_count": 6,
      "outputs": [
        {
          "output_type": "stream",
          "name": "stdout",
          "text": [
            "[1, 2, 3, 4, 5]\n"
          ]
        }
      ]
    },
    {
      "cell_type": "code",
      "source": [
        "# 7.Write a code to append the number 10 to the list [1, 2, 3, 4].\n",
        "list = [1, 2, 3, 4]\n",
        "list.append(10)\n",
        "print(list)"
      ],
      "metadata": {
        "colab": {
          "base_uri": "https://localhost:8080/"
        },
        "id": "83HpIUG3FygU",
        "outputId": "5c3a2676-fa10-4551-fa32-a0436d49845a"
      },
      "execution_count": 7,
      "outputs": [
        {
          "output_type": "stream",
          "name": "stdout",
          "text": [
            "[1, 2, 3, 4, 10]\n"
          ]
        }
      ]
    },
    {
      "cell_type": "code",
      "source": [
        "# 8.Write a code to remove the number 3 from the list [1, 2, 3, 4, 5].\n",
        "list = [1, 2, 3, 4, 5]\n",
        "list.remove(3)\n",
        "print(list)"
      ],
      "metadata": {
        "colab": {
          "base_uri": "https://localhost:8080/"
        },
        "id": "OOK1s19kF_CT",
        "outputId": "2435ff18-3139-47fb-b17c-5f5110bc1763"
      },
      "execution_count": 8,
      "outputs": [
        {
          "output_type": "stream",
          "name": "stdout",
          "text": [
            "[1, 2, 4, 5]\n"
          ]
        }
      ]
    },
    {
      "cell_type": "code",
      "source": [
        "# 9. Write a code to access the second element in the list ['a', 'b', 'c', 'd'].\n",
        "list = ['a', 'b', 'c', 'd']\n",
        "print(list[1])\n"
      ],
      "metadata": {
        "colab": {
          "base_uri": "https://localhost:8080/"
        },
        "id": "eekSkVDVGIp0",
        "outputId": "074e52b9-c54d-48ae-c359-923184ca9815"
      },
      "execution_count": 9,
      "outputs": [
        {
          "output_type": "stream",
          "name": "stdout",
          "text": [
            "b\n"
          ]
        }
      ]
    },
    {
      "cell_type": "code",
      "source": [
        "# 10.Write a code to reverse the list [10, 20, 30, 40, 50].\n",
        "list = [10, 20, 30, 40, 50]\n",
        "print(list[::-1])\n"
      ],
      "metadata": {
        "colab": {
          "base_uri": "https://localhost:8080/"
        },
        "id": "JCoZN6SNGVjz",
        "outputId": "059ac958-a9c3-45c9-e423-36eb8a3c7366"
      },
      "execution_count": 10,
      "outputs": [
        {
          "output_type": "stream",
          "name": "stdout",
          "text": [
            "[50, 40, 30, 20, 10]\n"
          ]
        }
      ]
    },
    {
      "cell_type": "code",
      "source": [
        "# 11. Write a code to create a tuple with the elements 10, 20, 30 and print it.\n",
        "tuple = (10, 20, 30)\n",
        "print(tuple)"
      ],
      "metadata": {
        "colab": {
          "base_uri": "https://localhost:8080/"
        },
        "id": "Ua2-wE12Gj8c",
        "outputId": "135a380f-1fb0-4091-ecd4-2e0f858fcf2b"
      },
      "execution_count": 11,
      "outputs": [
        {
          "output_type": "stream",
          "name": "stdout",
          "text": [
            "(10, 20, 30)\n"
          ]
        }
      ]
    },
    {
      "cell_type": "code",
      "source": [
        "#12. Write a code to access the first element of the tuple ('apple', 'banana', 'cherry').\n",
        "tuple = ('apple', 'banana', 'cherry')\n",
        "print(tuple[0])"
      ],
      "metadata": {
        "colab": {
          "base_uri": "https://localhost:8080/"
        },
        "id": "3rWjC_HEGuFU",
        "outputId": "704184af-388f-4a35-9891-550886ad4605"
      },
      "execution_count": 12,
      "outputs": [
        {
          "output_type": "stream",
          "name": "stdout",
          "text": [
            "apple\n"
          ]
        }
      ]
    },
    {
      "cell_type": "code",
      "source": [
        "#13.  Write a code to count how many times the number 2 appears in the tuple (1, 2, 3, 2, 4, 2).\n",
        "tuple = (1, 2, 3, 2, 4, 2)\n",
        "print(tuple.count(2))\n"
      ],
      "metadata": {
        "colab": {
          "base_uri": "https://localhost:8080/"
        },
        "id": "mMle2_NIG1m8",
        "outputId": "51d3a0d5-1d1f-4229-b1e6-ba5bafb93d44"
      },
      "execution_count": 13,
      "outputs": [
        {
          "output_type": "stream",
          "name": "stdout",
          "text": [
            "3\n"
          ]
        }
      ]
    },
    {
      "cell_type": "code",
      "source": [
        "#14. Write a code to find the index of the element \"cat\" in the tuple ('dog', 'cat', 'rabbit').\n",
        "tuple = ('dog', 'cat', 'rabbit')\n",
        "print(tuple.index('cat'))"
      ],
      "metadata": {
        "colab": {
          "base_uri": "https://localhost:8080/"
        },
        "id": "dIFgvGSHG-wb",
        "outputId": "50d6bfbb-c3a5-4306-c97d-29e710f0b42d"
      },
      "execution_count": 14,
      "outputs": [
        {
          "output_type": "stream",
          "name": "stdout",
          "text": [
            "1\n"
          ]
        }
      ]
    },
    {
      "cell_type": "code",
      "source": [
        "#15.Write a code to check if the element \"banana\" is in the tuple ('apple', 'orange', 'banana').\n",
        "tuple = ('apple', 'orange', 'banana')\n",
        "print('banana' in tuple)"
      ],
      "metadata": {
        "colab": {
          "base_uri": "https://localhost:8080/"
        },
        "id": "HvlJCPtRHF31",
        "outputId": "76f9f93d-d35f-4557-c26f-6c2417fe3bc3"
      },
      "execution_count": 16,
      "outputs": [
        {
          "output_type": "stream",
          "name": "stdout",
          "text": [
            "True\n"
          ]
        }
      ]
    },
    {
      "cell_type": "code",
      "source": [
        "#16.Write a code to create a set with the elements 1, 2, 3, 4, 5 and print it.\n",
        "set = {1, 2, 3, 4, 5}\n",
        "print(set)"
      ],
      "metadata": {
        "colab": {
          "base_uri": "https://localhost:8080/"
        },
        "id": "gEUVBlBfHOdE",
        "outputId": "9687882f-2454-4cca-a9f1-da4a43c89471"
      },
      "execution_count": 17,
      "outputs": [
        {
          "output_type": "stream",
          "name": "stdout",
          "text": [
            "{1, 2, 3, 4, 5}\n"
          ]
        }
      ]
    },
    {
      "cell_type": "code",
      "source": [
        "#17.Write a code to add the element 6 to the set {1, 2, 3, 4}.\n",
        "set = {1, 2, 3, 4}\n",
        "set.add(6)\n",
        "print(set)\n"
      ],
      "metadata": {
        "colab": {
          "base_uri": "https://localhost:8080/"
        },
        "id": "ddeku40-HVAD",
        "outputId": "1c8b28be-2828-4fbe-b2bd-083070e782cc"
      },
      "execution_count": 18,
      "outputs": [
        {
          "output_type": "stream",
          "name": "stdout",
          "text": [
            "{1, 2, 3, 4, 6}\n"
          ]
        }
      ]
    },
    {
      "cell_type": "code",
      "source": [
        "#18. Write a code to create a tuple with the elements 10, 20, 30 and print it.\n",
        "tuple = (10, 20, 30)\n",
        "print(tuple)"
      ],
      "metadata": {
        "colab": {
          "base_uri": "https://localhost:8080/"
        },
        "id": "qsVypBLbHlVs",
        "outputId": "419d545e-41be-43f4-8887-eabf86a92d02"
      },
      "execution_count": 19,
      "outputs": [
        {
          "output_type": "stream",
          "name": "stdout",
          "text": [
            "(10, 20, 30)\n"
          ]
        }
      ]
    },
    {
      "cell_type": "code",
      "source": [
        "#19.Write a code to access the first element of the tuple ('apple', 'banana', 'cherry').\n",
        "tuple = ('apple', 'banana', 'cherry')\n",
        "print(tuple[0])"
      ],
      "metadata": {
        "colab": {
          "base_uri": "https://localhost:8080/"
        },
        "id": "obZJSto4HrXN",
        "outputId": "c279f9fd-2823-4475-dd13-dfff833f149e"
      },
      "execution_count": 20,
      "outputs": [
        {
          "output_type": "stream",
          "name": "stdout",
          "text": [
            "apple\n"
          ]
        }
      ]
    },
    {
      "cell_type": "code",
      "source": [
        "#20.Write a code to count how many times the number 2 appears in the tuple (1, 2, 3, 2, 4, 2).\n",
        "tuple = (1, 2, 3, 2, 4, 2)\n",
        "print(tuple.count(2))\n"
      ],
      "metadata": {
        "colab": {
          "base_uri": "https://localhost:8080/"
        },
        "id": "zNUbJlKkHxSd",
        "outputId": "5d9d1818-2e68-4601-cf5b-8e4069430a8a"
      },
      "execution_count": 21,
      "outputs": [
        {
          "output_type": "stream",
          "name": "stdout",
          "text": [
            "3\n"
          ]
        }
      ]
    },
    {
      "cell_type": "code",
      "source": [
        "#21.Write a code to find the index of the element \"cat\" in the tuple ('dog', 'cat', 'rabbit').\n",
        "tuple = ('dog', 'cat', 'rabbit')\n",
        "print(tuple.index('cat'))"
      ],
      "metadata": {
        "colab": {
          "base_uri": "https://localhost:8080/"
        },
        "id": "URB0C1ucINck",
        "outputId": "63860c11-53e1-406a-dbf7-90f72ccc75f7"
      },
      "execution_count": 22,
      "outputs": [
        {
          "output_type": "stream",
          "name": "stdout",
          "text": [
            "1\n"
          ]
        }
      ]
    },
    {
      "cell_type": "code",
      "source": [
        "#22.Write a code to check if the element \"banana\" is in the tuple ('apple', 'orange', 'banana').\n",
        "tuple = ('apple', 'orange', 'banana')\n",
        "print('banana' in tuple)"
      ],
      "metadata": {
        "colab": {
          "base_uri": "https://localhost:8080/"
        },
        "id": "ppVD0fqPITdc",
        "outputId": "f1b19172-7a05-4f9a-cacb-e791355d2197"
      },
      "execution_count": 23,
      "outputs": [
        {
          "output_type": "stream",
          "name": "stdout",
          "text": [
            "True\n"
          ]
        }
      ]
    },
    {
      "cell_type": "code",
      "source": [
        "#23.Write a code to create a set with the elements 1, 2, 3, 4, 5 and print it.\n",
        "set = {1, 2, 3, 4, 5}\n",
        "print(set)"
      ],
      "metadata": {
        "colab": {
          "base_uri": "https://localhost:8080/"
        },
        "id": "2PpIF9MuIY_F",
        "outputId": "79add596-4395-40a4-c7ef-4ff4f4e622a5"
      },
      "execution_count": 24,
      "outputs": [
        {
          "output_type": "stream",
          "name": "stdout",
          "text": [
            "{1, 2, 3, 4, 5}\n"
          ]
        }
      ]
    },
    {
      "cell_type": "code",
      "source": [
        "#24.Write a code to add the element 6 to the set {1, 2, 3, 4}.\n",
        "set = {1, 2, 3, 4}\n",
        "set.add(6)\n",
        "print(set)"
      ],
      "metadata": {
        "colab": {
          "base_uri": "https://localhost:8080/"
        },
        "id": "AzS1B8EjIf-s",
        "outputId": "367f85cd-5d18-423c-80cc-9a545af68fdf"
      },
      "execution_count": 25,
      "outputs": [
        {
          "output_type": "stream",
          "name": "stdout",
          "text": [
            "{1, 2, 3, 4, 6}\n"
          ]
        }
      ]
    }
  ]
}